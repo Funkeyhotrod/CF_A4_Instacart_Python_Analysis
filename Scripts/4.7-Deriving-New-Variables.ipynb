{
 "cells": [
  {
   "cell_type": "markdown",
   "id": "f4b25432-ff5a-4abd-a20c-1248de4c23dd",
   "metadata": {},
   "source": [
    "# 4.7 Deriving New Variables"
   ]
  },
  {
   "cell_type": "code",
   "execution_count": 2,
   "id": "69aa5e21-d01f-4c19-a8ad-1ab0f43d5d6a",
   "metadata": {},
   "outputs": [],
   "source": [
    "import pandas as pd\n",
    "import numpy as np\n",
    "import os"
   ]
  },
  {
   "cell_type": "code",
   "execution_count": 4,
   "id": "09406693-f9c1-4b97-8ecc-eabe19647b11",
   "metadata": {},
   "outputs": [],
   "source": [
    "path = r'C:\\Users\\aaron\\OneDrive\\Documents\\CF Analysis 4'"
   ]
  },
  {
   "cell_type": "code",
   "execution_count": 6,
   "id": "5a92734b-f3ee-400e-9fd2-fc4adf290da2",
   "metadata": {},
   "outputs": [],
   "source": [
    "df_opm = pd.read_pickle(os.path.join(path, '2 Data', 'Prepared Data', 'ords_prods_merge'))"
   ]
  },
  {
   "cell_type": "markdown",
   "id": "e3d9bd63-0fce-4348-91e3-68e8d64ac5ff",
   "metadata": {},
   "source": [
    " "
   ]
  },
  {
   "cell_type": "markdown",
   "id": "b144d697-11f5-46d4-9fb2-ead738a45609",
   "metadata": {},
   "source": [
    "If statements with loc"
   ]
  },
  {
   "cell_type": "code",
   "execution_count": 10,
   "id": "21c3a5ce-62d5-402b-b46f-b5c85aceb363",
   "metadata": {},
   "outputs": [
    {
     "data": {
      "text/plain": [
       "(32404859, 14)"
      ]
     },
     "execution_count": 10,
     "metadata": {},
     "output_type": "execute_result"
    }
   ],
   "source": [
    "df_opm.shape"
   ]
  },
  {
   "cell_type": "code",
   "execution_count": 12,
   "id": "6be8507d-5d05-4e05-b2b7-9c62bda9f704",
   "metadata": {},
   "outputs": [],
   "source": [
    "df_opm.loc[df_opm['prices'] > 15, 'price_range_loc'] = 'High-range product'"
   ]
  },
  {
   "cell_type": "code",
   "execution_count": 14,
   "id": "e57c0b9e-ae84-4c68-b969-9d184d584ac4",
   "metadata": {},
   "outputs": [],
   "source": [
    "df_opm.loc[(df_opm['prices'] <= 15) & (df_opm['prices'] > 5), 'price_range_loc'] = 'Mid-range product'"
   ]
  },
  {
   "cell_type": "code",
   "execution_count": 16,
   "id": "570141de-df68-48ca-839b-7471f732563f",
   "metadata": {},
   "outputs": [],
   "source": [
    "df_opm.loc[df_opm['prices'] <= 5, 'price_range_loc'] = 'Low-range product'"
   ]
  },
  {
   "cell_type": "code",
   "execution_count": 18,
   "id": "d87934fb-6328-4ccd-a667-ef53b2d4d7d4",
   "metadata": {},
   "outputs": [
    {
     "data": {
      "text/plain": [
       "price_range_loc\n",
       "Mid-range product     21860860\n",
       "Low-range product     10126321\n",
       "High-range product      417678\n",
       "Name: count, dtype: int64"
      ]
     },
     "execution_count": 18,
     "metadata": {},
     "output_type": "execute_result"
    }
   ],
   "source": [
    "df_opm['price_range_loc'].value_counts(dropna = False)"
   ]
  },
  {
   "cell_type": "code",
   "execution_count": 20,
   "id": "c507807f-97f2-4280-a5c9-a58ebc582663",
   "metadata": {},
   "outputs": [
    {
     "data": {
      "text/plain": [
       "(32404859, 15)"
      ]
     },
     "execution_count": 20,
     "metadata": {},
     "output_type": "execute_result"
    }
   ],
   "source": [
    "df_opm.shape"
   ]
  },
  {
   "cell_type": "markdown",
   "id": "b57dbf22-cf72-4596-8419-1d0eb0843c55",
   "metadata": {},
   "source": [
    " "
   ]
  },
  {
   "cell_type": "markdown",
   "id": "b80ba3b2-0147-4338-9650-06f92fe807d1",
   "metadata": {},
   "source": [
    "If statements with loops"
   ]
  },
  {
   "cell_type": "code",
   "execution_count": 24,
   "id": "cfadfa44-d6f2-4746-ad0e-5544565b11dd",
   "metadata": {},
   "outputs": [
    {
     "data": {
      "text/plain": [
       "orders_day_of_week\n",
       "0    6204182\n",
       "1    5660230\n",
       "6    4496490\n",
       "2    4213830\n",
       "5    4205791\n",
       "3    3840534\n",
       "4    3783802\n",
       "Name: count, dtype: int64"
      ]
     },
     "execution_count": 24,
     "metadata": {},
     "output_type": "execute_result"
    }
   ],
   "source": [
    "df_opm['orders_day_of_week'].value_counts(dropna = False)"
   ]
  },
  {
   "cell_type": "code",
   "execution_count": 26,
   "id": "bfeb8429-8a82-481b-b7ca-b33eb43caf7d",
   "metadata": {},
   "outputs": [],
   "source": [
    "result = []\n",
    "\n",
    "for value in df_opm[\"orders_day_of_week\"]:\n",
    "  if value == 0:\n",
    "    result.append(\"Busiest day\")\n",
    "  elif value == 4:\n",
    "    result.append(\"Least busy\")\n",
    "  else:\n",
    "    result.append(\"Regularly busy\")"
   ]
  },
  {
   "cell_type": "code",
   "execution_count": 28,
   "id": "a89bb538-dd13-4ecc-8818-7d43488d9e86",
   "metadata": {},
   "outputs": [],
   "source": [
    "df_opm['busiest_day'] = result"
   ]
  },
  {
   "cell_type": "code",
   "execution_count": 30,
   "id": "0174ed3a-9129-40af-9458-7b84a522417f",
   "metadata": {},
   "outputs": [
    {
     "data": {
      "text/plain": [
       "busiest_day\n",
       "Regularly busy    22416875\n",
       "Busiest day        6204182\n",
       "Least busy         3783802\n",
       "Name: count, dtype: int64"
      ]
     },
     "execution_count": 30,
     "metadata": {},
     "output_type": "execute_result"
    }
   ],
   "source": [
    "df_opm['busiest_day'].value_counts(dropna = False)"
   ]
  },
  {
   "cell_type": "code",
   "execution_count": 32,
   "id": "8dd8d69c-8386-48d7-a45a-379ded054a3b",
   "metadata": {},
   "outputs": [
    {
     "data": {
      "text/plain": [
       "(32404859, 16)"
      ]
     },
     "execution_count": 32,
     "metadata": {},
     "output_type": "execute_result"
    }
   ],
   "source": [
    "df_opm.shape"
   ]
  },
  {
   "cell_type": "markdown",
   "id": "958767ae-f03d-467d-b8c6-042625ad6ae7",
   "metadata": {},
   "source": [
    " "
   ]
  },
  {
   "cell_type": "markdown",
   "id": "62444bfe-7356-4567-8dc5-80c038967f78",
   "metadata": {},
   "source": [
    "# 4.7 Task"
   ]
  },
  {
   "cell_type": "markdown",
   "id": "1c699bcd-9e64-47b5-b8e9-21e677e58321",
   "metadata": {},
   "source": [
    "Part 2"
   ]
  },
  {
   "cell_type": "code",
   "execution_count": 37,
   "id": "dde73a7d-8752-448b-b29a-9adf1e3481fc",
   "metadata": {},
   "outputs": [],
   "source": [
    "result_2 = []\n",
    "\n",
    "for value in df_opm[\"orders_day_of_week\"]:\n",
    "  if value == 0 or value == 1:\n",
    "    result_2.append(\"Busiest days\")\n",
    "  elif value == 4 or value == 3:\n",
    "    result_2.append(\"Least busiest days\")\n",
    "  else:\n",
    "    result_2.append(\"Regular days\")"
   ]
  },
  {
   "cell_type": "code",
   "execution_count": 39,
   "id": "cf136ffe-be74-42bb-b4e6-c633b47fc56a",
   "metadata": {},
   "outputs": [],
   "source": [
    "# creating new column for the 2 busiest and 2 least busiest days of the week\n",
    "df_opm['Busiest_days'] = result_2"
   ]
  },
  {
   "cell_type": "markdown",
   "id": "d1010fd0-8ec5-4be0-a0e0-daea2b2a66c6",
   "metadata": {},
   "source": [
    " "
   ]
  },
  {
   "cell_type": "markdown",
   "id": "9e60e951-bfa9-48c0-a298-0575e8eaf271",
   "metadata": {},
   "source": [
    "Part 3"
   ]
  },
  {
   "cell_type": "code",
   "execution_count": 45,
   "id": "6851415f-49a6-4639-be32-204b73a3259b",
   "metadata": {},
   "outputs": [
    {
     "data": {
      "text/plain": [
       "Busiest_days\n",
       "Regular days          12916111\n",
       "Busiest days          11864412\n",
       "Least busiest days     7624336\n",
       "Name: count, dtype: int64"
      ]
     },
     "execution_count": 45,
     "metadata": {},
     "output_type": "execute_result"
    }
   ],
   "source": [
    "df_opm['Busiest_days'].value_counts(dropna = False)"
   ]
  },
  {
   "cell_type": "markdown",
   "id": "1b98485e-c673-42b9-85eb-81e3e295c461",
   "metadata": {},
   "source": [
    "The value counts for this new column are all correct"
   ]
  },
  {
   "cell_type": "code",
   "execution_count": 48,
   "id": "2e24a2d5-fea6-4478-a4fe-309b583fd36a",
   "metadata": {},
   "outputs": [
    {
     "data": {
      "text/plain": [
       "(32404859, 17)"
      ]
     },
     "execution_count": 48,
     "metadata": {},
     "output_type": "execute_result"
    }
   ],
   "source": [
    "df_opm.shape"
   ]
  },
  {
   "cell_type": "markdown",
   "id": "7947ab41-685f-4b75-a725-a82a3527ed70",
   "metadata": {},
   "source": [
    " "
   ]
  },
  {
   "cell_type": "markdown",
   "id": "e06baad1-0278-4689-94d5-61992538afc7",
   "metadata": {},
   "source": [
    "Part 4"
   ]
  },
  {
   "cell_type": "code",
   "execution_count": 52,
   "id": "6902a62d-501b-45e6-ab99-7d58e504e6dc",
   "metadata": {},
   "outputs": [
    {
     "data": {
      "text/plain": [
       "order_hour_of_day\n",
       "10                 2761760\n",
       "11                 2736140\n",
       "14                 2689136\n",
       "15                 2662144\n",
       "13                 2660954\n",
       "12                 2618532\n",
       "16                 2535200\n",
       "9                  2454203\n",
       "17                 2087654\n",
       "8                  1718118\n",
       "18                 1636502\n",
       "19                 1258305\n",
       "20                  976156\n",
       "7                   891054\n",
       "21                  795637\n",
       "22                  634225\n",
       "23                  402316\n",
       "6                   290493\n",
       "0                   218769\n",
       "1                   115700\n",
       "5                    87961\n",
       "2                    69375\n",
       "4                    53242\n",
       "3                    51281\n",
       "562949953421328          2\n",
       "Name: count, dtype: int64"
      ]
     },
     "execution_count": 52,
     "metadata": {},
     "output_type": "execute_result"
    }
   ],
   "source": [
    "df_opm['order_hour_of_day'].value_counts(dropna = False)"
   ]
  },
  {
   "cell_type": "code",
   "execution_count": 54,
   "id": "541a2e86-d384-414f-a959-837c9a842082",
   "metadata": {},
   "outputs": [],
   "source": [
    "result_3 = []\n",
    "\n",
    "for value in df_opm[\"order_hour_of_day\"]:\n",
    "  if value in [10, 11, 14, 15, 13, 12, 16, 9]:\n",
    "    result_3.append(\"Most orders\")\n",
    "  elif value in [17, 8, 18, 19, 20, 7, 21, 22]:\n",
    "    result_3.append(\"Average orders\")\n",
    "  else:\n",
    "    result_3.append(\"Fewest orders\")"
   ]
  },
  {
   "cell_type": "code",
   "execution_count": 58,
   "id": "828be694-6315-4ef0-857d-799f9cb1b2ae",
   "metadata": {},
   "outputs": [],
   "source": [
    "# creating new column for the busiest hours of the day\n",
    "df_opm['busiest_period_of_day'] = result_3"
   ]
  },
  {
   "cell_type": "markdown",
   "id": "4d9ea241-2a73-4b72-bdf3-5d505fe46fc8",
   "metadata": {},
   "source": [
    " "
   ]
  },
  {
   "cell_type": "markdown",
   "id": "8a0b01a8-05e2-4a3f-9e90-45e1267e6b8f",
   "metadata": {},
   "source": [
    "Part 5"
   ]
  },
  {
   "cell_type": "code",
   "execution_count": 62,
   "id": "e5c58e12-9b9c-4422-8019-7b7a79abb7ea",
   "metadata": {},
   "outputs": [
    {
     "data": {
      "text/plain": [
       "busiest_period_of_day\n",
       "Most orders       21118069\n",
       "Average orders     9997651\n",
       "Fewest orders      1289139\n",
       "Name: count, dtype: int64"
      ]
     },
     "execution_count": 62,
     "metadata": {},
     "output_type": "execute_result"
    }
   ],
   "source": [
    "df_opm['busiest_period_of_day'].value_counts(dropna = False)"
   ]
  },
  {
   "cell_type": "code",
   "execution_count": 64,
   "id": "4be03fe3-d877-40e2-8da2-09ef7e7d8251",
   "metadata": {},
   "outputs": [
    {
     "data": {
      "text/plain": [
       "(32404859, 18)"
      ]
     },
     "execution_count": 64,
     "metadata": {},
     "output_type": "execute_result"
    }
   ],
   "source": [
    "df_opm.shape"
   ]
  },
  {
   "cell_type": "markdown",
   "id": "629ddc2a-f75d-4382-9c1a-1ba7df2d6087",
   "metadata": {},
   "source": [
    " "
   ]
  },
  {
   "cell_type": "markdown",
   "id": "ba52ab30-5260-440a-b98e-cc361291d267",
   "metadata": {},
   "source": [
    "Part 7"
   ]
  },
  {
   "cell_type": "code",
   "execution_count": 70,
   "id": "a02f918d-17a0-4bb2-a129-79e66bdfabcc",
   "metadata": {},
   "outputs": [],
   "source": [
    "# Exporting new dataset\n",
    "df_opm.to_pickle(os.path.join(path, '2 Data','Prepared Data', 'ords_prods_merge+'))"
   ]
  },
  {
   "cell_type": "code",
   "execution_count": null,
   "id": "25852bc2-9c25-4488-b86e-0e036864ca02",
   "metadata": {},
   "outputs": [],
   "source": []
  }
 ],
 "metadata": {
  "kernelspec": {
   "display_name": "Python [conda env:base] *",
   "language": "python",
   "name": "conda-base-py"
  },
  "language_info": {
   "codemirror_mode": {
    "name": "ipython",
    "version": 3
   },
   "file_extension": ".py",
   "mimetype": "text/x-python",
   "name": "python",
   "nbconvert_exporter": "python",
   "pygments_lexer": "ipython3",
   "version": "3.12.7"
  }
 },
 "nbformat": 4,
 "nbformat_minor": 5
}
